{
 "cells": [
  {
   "cell_type": "code",
   "execution_count": null,
   "id": "b31dbef0-e540-4f1a-b904-82ebb227cf50",
   "metadata": {},
   "outputs": [],
   "source": [
    "import numpy as np\n",
    "import pandas as pd\n",
    "import matplotlib.pyplot as plt\n",
    "import seaborn as sns\n",
    "import collections\n",
    "import nltk\n",
    "import re\n",
    "import string\n",
    "from textblob import Word\n",
    "from sklearn.feature_extraction.text import TfidfVectorizer\n",
    "from sklearn.feature_extraction.text import CountVectorizer\n",
    "from sklearn.metrics import accuracy_score\n",
    "from sklearn.naive_bayes import MultinomialNB\n",
    "from sklearn.linear_model import SGDClassifier\n",
    "from sklearn.linear_model import LogisticRegression\n",
    "from sklearn.ensemble import RandomForestClassifier\n",
    "from sklearn.base import BaseEstimator, TransformerMixin\n",
    "from nltk.corpus import stopwords\n",
    "from nltk.tokenize import word_tokenize\n",
    "from nltk.corpus import wordnet\n",
    "from nltk.stem import PorterStemmer\n",
    "from nltk.stem import WordNetLemmatizer\n",
    "from collections import Counter"
   ]
  },
  {
   "cell_type": "code",
   "execution_count": 1,
   "id": "593fd294-6dd1-41ae-9331-d809c2547002",
   "metadata": {},
   "outputs": [
    {
     "ename": "IndentationError",
     "evalue": "expected an indented block after function definition on line 31 (1119307577.py, line 32)",
     "output_type": "error",
     "traceback": [
      "\u001b[1;36m  Cell \u001b[1;32mIn[1], line 32\u001b[1;36m\u001b[0m\n\u001b[1;33m    \"\"\"pattern = re.compile(r\"(.)\\1{2,}\")\u001b[0m\n\u001b[1;37m    ^\u001b[0m\n\u001b[1;31mIndentationError\u001b[0m\u001b[1;31m:\u001b[0m expected an indented block after function definition on line 31\n"
     ]
    }
   ],
   "source": [
    "def word_prob(word): return dictionary[word] / total\n",
    "def words(text): return re.findall('[a-z]+', text.lower())\n",
    "dictionary = Counter(words(open(r'\\Dataset\\merged.txt').read()))\n",
    "max_word_length = max(map(len, dictionary))\n",
    "total = float(sum(dictionary.values()))\n",
    "def viterbi_segment(text):\n",
    "    probs, lasts = [1.0], [0]\n",
    "    for i in range(1, len(text) + 1):\n",
    "        prob_k, k = max((probs[j] * word_prob(text[j:i]), j)\n",
    "                        for j in range(max(0, i - max_word_length), i))\n",
    "        probs.append(prob_k)\n",
    "        lasts.append(k)\n",
    "    words = []\n",
    "    i = len(text)\n",
    "    while 0 < i:\n",
    "        words.append(text[lasts[i]:i])\n",
    "        i = lasts[i]\n",
    "    words.reverse()\n",
    "    return words, probs[-1]\n",
    "\n",
    "def fix_hashtag(text):\n",
    "    text = text.group().split(\":\")[0]\n",
    "    text = text[1:] # remove '#'\n",
    "    try:\n",
    "        test = int(text[0])\n",
    "        text = text[1:]\n",
    "    except:\n",
    "        pass\n",
    "    output = ' '.join(viterbi_segment(text)[0])\n",
    "    return output\n",
    "    def preprocess_text(text):\n",
    "    \"\"\"pattern = re.compile(r\"(.)\\1{2,}\")\n",
    "    text = pattern.sub(r\"\\1\\1\", str(text))\n",
    "    text = re.sub(r'http.?://[^\\s]+[\\s]?', '', str(text))\n",
    "    punct = string.punctuation\n",
    "    trantab = str.maketrans(punct, len(punct) * ' ')  # Every punctuation symbol will be replaced by a space\n",
    "    text = text.translate(trantab)\n",
    "    text = text.lower()\n",
    "    text = text.strip()\"\"\"\n",
    "    text = re.sub(r'([^\\s\\w]|\\d|_)+', '', text)\n",
    "    text = text.lower()\n",
    "    text = re.sub(\"(#[A-Za-z0-9]+)\", fix_hashtag, text)\n",
    "    text = ' '.join(re.sub(\"(@[A-Za-z0-9]+)|([^0-9A-Za-z \\t])|(\\w+:\\/\\/\\S+)\", \" \", text).split())\n",
    "    \n",
    "    text = re.sub('\\d+', '', str(text))\n",
    "    def get_wordnet_pos(word):\n",
    "        tag = nltk.pos_tag([word])[0][1][0].upper()\n",
    "        tag_dict = {\"J\": wordnet.ADJ, \"N\": wordnet.NOUN, \"V\": wordnet.VERB, \"R\": wordnet.ADV}\n",
    "        return tag_dict.get(tag, wordnet.NOUN)     \n",
    "        \n",
    "    ps = PorterStemmer()\n",
    "    words = text.split()\n",
    "    lemmatizer = WordNetLemmatizer()\n",
    "    lemma_words = [lemmatizer.lemmatize(word, get_wordnet_pos(word)) for word in words]\n",
    "    text = \" \".join(lemma_words)\n",
    "    \n",
    "    nltk.download('stopwords')\n",
    "    stopwords_list = stopwords.words('english')\n",
    "    \n",
    "    whitelist = [\"n't\", \"not\", \"no\"]\n",
    "    words = text.split()\n",
    "    clean_words = [word for word in words if (word not in stopwords_list or word in whitelist) and len(word) > 1]\n",
    "    text = \" \".join(clean_words)\n",
    "    \n",
    "    text = text.strip()\n",
    "    return text"
   ]
  },
  {
   "cell_type": "code",
   "execution_count": null,
   "id": "462eeccd-f671-4459-8d40-a0e78bdfbdec",
   "metadata": {},
   "outputs": [],
   "source": [
    "happiness_data = pd.read_excel(r\"E:\\Capstone DS\\Intensity Analysis\\happiness.xlsx\")\n",
    "angriness_data = pd.read_excel(r\"E:\\Capstone DS\\Intensity Analysis\\angriness.xlsx\")\n",
    "sadness_data = pd.read_excel(r\"E:\\Capstone DS\\Intensity Analysis\\sadness.xlsx\")\n",
    "all_data = pd.concat([happiness_data, angriness_data, sadness_data], ignore_index=True)\n",
    "all_data[\"processed_text\"] = all_data[\"content\"].apply(preprocess_text)\n",
    "\n",
    "print(all_data.info())"
   ]
  },
  {
   "cell_type": "code",
   "execution_count": null,
   "id": "40e33b1d-6def-4405-be1b-b73bf6f8d227",
   "metadata": {},
   "outputs": [],
   "source": [
    "emotion_label_map = {\n",
    "    'sadness': 2,\n",
    "    'happiness': 1,\n",
    "    'angriness': 3}\n",
    "\n",
    "def set_emotionvalue(row_number, assigned_value):\n",
    "    return assigned_value[row_number]\n",
    "\n",
    "df_copy = all_data[['processed_text']].copy()\n",
    "df_copy['emotion_label'] = all_data['intensity'].apply(set_emotionvalue, args=(emotion_label_map, ))\n",
    "\n",
    "df_copy.to_csv(r'\\Dataset\\cleaned_data.csv')"
   ]
  },
  {
   "cell_type": "code",
   "execution_count": null,
   "id": "5bce3082-863f-4099-b0c2-1dc2e0d30817",
   "metadata": {},
   "outputs": [],
   "source": [
    "count  = df_copy.iloc[:,1].value_counts()\n",
    "plt.figure(figsize=(9,7))\n",
    "sns.barplot(x=count.index, y=count.values, alpha=0.8, palette=\"plasma\")\n",
    "plt.ylabel('Count', fontsize=12)\n",
    "plt.xlabel('Emotions', fontsize=12)\n",
    "plt.show()"
   ]
  },
  {
   "cell_type": "code",
   "execution_count": null,
   "id": "cada420e-4019-4664-98ba-c0288a147b9f",
   "metadata": {},
   "outputs": [],
   "source": [
    "X_train = df_copy.iloc[:,0][:1979]\n",
    "y_train = df_copy.iloc[:,-1][:1979]\n",
    "X_val = df_copy.iloc[:,0][1001:]\n",
    "y_val = df_copy.iloc[:,-1][1001:]"
   ]
  },
  {
   "cell_type": "code",
   "execution_count": null,
   "id": "dffc24b0-a79b-41fd-87cc-a5ef2c5380ea",
   "metadata": {},
   "outputs": [],
   "source": [
    "tfidf = TfidfVectorizer(max_features=1000, analyzer='word',ngram_range=(1,3))\n",
    "X_train_tfidf = tfidf.fit_transform(X_train.astype('U'))\n",
    "X_val_tfidf = tfidf.fit_transform(X_val.astype('U'))\n",
    "print(tfidf.vocabulary_)"
   ]
  },
  {
   "cell_type": "code",
   "execution_count": null,
   "id": "7e870937-147a-4919-bdaa-466e01fc41ad",
   "metadata": {},
   "outputs": [],
   "source": [
    "bow = tfidf.fit_transform(df_copy.iloc[:,0].astype('U'))\n",
    "word_freq = dict(zip(tfidf.get_feature_names_out(), np.asarray(bow.sum(axis=0)).ravel()))\n",
    "word_counter = collections.Counter(word_freq)\n",
    "word_counter_df = pd.DataFrame(word_counter.most_common(30), columns = ['word', 'freq'])\n",
    "fig, ax = plt.subplots(figsize=(15, 10))\n",
    "sns.barplot(x=\"word\", y=\"freq\", data= word_counter_df, ax=ax, palette=\"plasma\")\n",
    "plt.show();"
   ]
  },
  {
   "cell_type": "code",
   "execution_count": null,
   "id": "a5877ada-386a-4ff4-bb37-602ba6146bd5",
   "metadata": {},
   "outputs": [],
   "source": [
    "count_vect = CountVectorizer(analyzer='word')\n",
    "count_vect.fit(df_copy.iloc[:,0].astype('U'))\n",
    "X_train_count =  count_vect.transform(X_train.astype('U'))\n",
    "X_val_count =  count_vect.transform(X_val.astype('U'))\n",
    "print(count_vect.vocabulary_)"
   ]
  },
  {
   "cell_type": "code",
   "execution_count": null,
   "id": "a995bee7-d090-4445-a09e-2a96d8731803",
   "metadata": {},
   "outputs": [],
   "source": [
    "bow = count_vect.fit_transform(df_copy.iloc[:,0].astype('U'))\n",
    "print(bow.shape)\n",
    "word_freq = dict(zip(count_vect.get_feature_names_out(), np.asarray(bow.sum(axis=0)).ravel()))\n",
    "word_counter = collections.Counter(word_freq)\n",
    "word_counter_df = pd.DataFrame(word_counter.most_common(30), columns = ['word', 'freq'])\n",
    "fig, ax = plt.subplots(figsize=(15, 10))\n",
    "sns.barplot(x=\"word\", y=\"freq\", data= word_counter_df, ax=ax, palette=\"plasma\")\n",
    "plt.show();"
   ]
  },
  {
   "cell_type": "code",
   "execution_count": null,
   "id": "830f781b-5520-4ce5-8030-ef65c26e5b91",
   "metadata": {},
   "outputs": [],
   "source": [
    "nb = MultinomialNB()\n",
    "nb.fit(X_train_tfidf, y_train)\n",
    "y_pred = nb.predict(X_val_tfidf)\n",
    "print('naive bayes tfidf accuracy %s' % accuracy_score(y_pred, y_val))"
   ]
  },
  {
   "cell_type": "code",
   "execution_count": null,
   "id": "2ac4dd37-10b8-498e-8f7d-408e912a2920",
   "metadata": {},
   "outputs": [],
   "source": [
    "lsvm = SGDClassifier(alpha=0.001, random_state=5, max_iter=15, tol=None)\n",
    "lsvm.fit(X_train_tfidf, y_train)\n",
    "y_pred = lsvm.predict(X_val_tfidf)\n",
    "print('svm using tfidf accuracy %s' % accuracy_score(y_pred, y_val))"
   ]
  },
  {
   "cell_type": "code",
   "execution_count": null,
   "id": "5f42ecbc-66a9-43be-9e15-770c03765c04",
   "metadata": {},
   "outputs": [],
   "source": [
    "logreg = LogisticRegression(C=1, max_iter=100)\n",
    "logreg.fit(X_train_tfidf, y_train)\n",
    "y_pred = logreg.predict(X_val_tfidf)\n",
    "print('log reg tfidf accuracy %s' % accuracy_score(y_pred, y_val))"
   ]
  },
  {
   "cell_type": "code",
   "execution_count": null,
   "id": "c88ce150-d949-4b51-9f38-45d13ad7fb6c",
   "metadata": {},
   "outputs": [],
   "source": [
    "nb1 = MultinomialNB()\n",
    "nb1.fit(X_train_count, y_train)\n",
    "y_pred = nb1.predict(X_val_count)\n",
    "print('naive bayes count vectors accuracy %s' % accuracy_score(y_pred, y_val))"
   ]
  },
  {
   "cell_type": "code",
   "execution_count": null,
   "id": "4af0a012-f57b-4da0-aee0-d3b4089142b7",
   "metadata": {},
   "outputs": [],
   "source": [
    "logreg1 = LogisticRegression(C=1, max_iter=500)\n",
    "logreg1.fit(X_train_count, y_train)\n",
    "y_pred = logreg1.predict(X_val_count)\n",
    "print('log reg count vectors accuracy %s' % accuracy_score(y_pred, y_val))"
   ]
  },
  {
   "cell_type": "code",
   "execution_count": null,
   "id": "c5ba03cd-3cb3-436f-bb85-f3cadc6f88b6",
   "metadata": {},
   "outputs": [],
   "source": [
    "lsvm1 = SGDClassifier(alpha=0.001, random_state=5, max_iter=2, tol=None)\n",
    "lsvm1.fit(X_train_count, y_train)\n",
    "y_pred = lsvm1.predict(X_val_count)\n",
    "print('lsvm using count vectors accuracy %s' % accuracy_score(y_pred, y_val))"
   ]
  },
  {
   "cell_type": "code",
   "execution_count": null,
   "id": "c1c7dbec-1c2d-4b1c-b41b-6e6a5371bb88",
   "metadata": {},
   "outputs": [],
   "source": [
    "input_text = pd.DataFrame([\"I am so angry at you!!!!!\", \n",
    "        \"you ve hit a new low with a danger of blm fascist slogan please stop it before too late stop\", \n",
    "        \"I love my doggg\", \n",
    "        \"I think i'm gonna be sick :'‑(\", \n",
    "        \"I hate you so much\",\n",
    "        \"I'm at work\", \n",
    "        \"@TheTombert i was watching Harpers Island, lol... there was no vodka involved\", \n",
    "        \"sometimes i wish things could go back to the way they were the beginning of last summer\", \n",
    "        \"it's your 18th birthday finally!!! yippeeeee\", \n",
    "        \"still waiting in line\", \n",
    "        \"aarrgghh - fu*k.....a hose has leaked water all over the new floating floor\", \n",
    "        \"that b*tch is so ugly\", \n",
    "        \"oh no he is hospitalised!!!\", \n",
    "       ])\n",
    "text_count = count_vect.transform(input_text[0])"
   ]
  },
  {
   "cell_type": "code",
   "execution_count": null,
   "id": "2c0e2341-61ce-42bc-a8b9-cd18bd33d77b",
   "metadata": {},
   "outputs": [],
   "source": [
    "text_pred = logreg1.predict(text_count)\n",
    "print(text_pred)\n",
    "input_text[0]"
   ]
  },
  {
   "cell_type": "code",
   "execution_count": null,
   "id": "0ccb5f67-f5a8-44a0-b3d8-2d4b72e6131f",
   "metadata": {},
   "outputs": [],
   "source": [
    "final_result=input_text.copy()"
   ]
  },
  {
   "cell_type": "code",
   "execution_count": null,
   "id": "85135e8d-5bb3-47e2-a520-b1235ecd5525",
   "metadata": {},
   "outputs": [],
   "source": [
    "final_result['result']=text_pred\n",
    "final_result=final_result.rename(columns={0:\"input_text\"})\n",
    "final_result=final_result.rename(columns={\"result\":\"predicted_emotion\"})\n",
    "final_result=final_result.replace({1: 'Happy', 2: 'Sad', 3: 'Anger'})\n",
    "final_result"
   ]
  },
  {
   "cell_type": "code",
   "execution_count": null,
   "id": "6cae10de-62c6-4e7c-a031-68e0a0bb2bda",
   "metadata": {},
   "outputs": [],
   "source": [
    "final_result.to_csv(r'\\Dataset\\output_result.csv')"
   ]
  },
  {
   "cell_type": "code",
   "execution_count": null,
   "id": "7d3d6f54-b309-45df-b826-df611c5b70f2",
   "metadata": {},
   "outputs": [],
   "source": []
  },
  {
   "cell_type": "code",
   "execution_count": null,
   "id": "0f1473a4-3f9d-495e-9348-8293d350d6dd",
   "metadata": {},
   "outputs": [],
   "source": []
  }
 ],
 "metadata": {
  "kernelspec": {
   "display_name": "Python 3 (ipykernel)",
   "language": "python",
   "name": "python3"
  },
  "language_info": {
   "codemirror_mode": {
    "name": "ipython",
    "version": 3
   },
   "file_extension": ".py",
   "mimetype": "text/x-python",
   "name": "python",
   "nbconvert_exporter": "python",
   "pygments_lexer": "ipython3",
   "version": "3.12.4"
  }
 },
 "nbformat": 4,
 "nbformat_minor": 5
}
