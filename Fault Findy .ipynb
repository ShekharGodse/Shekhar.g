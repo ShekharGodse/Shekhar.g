{
 "cells": [
  {
   "cell_type": "code",
   "execution_count": 1,
   "id": "4420019c-74f6-4eac-9120-5c50285bb2e0",
   "metadata": {},
   "outputs": [
    {
     "name": "stdout",
     "output_type": "stream",
     "text": [
      "Requirement already satisfied: fastai in c:\\users\\shekhar\\appdata\\roaming\\python\\python312\\site-packages (2.7.17)\n",
      "Requirement already satisfied: pip in c:\\users\\shekhar\\appdata\\local\\programs\\python\\python312\\lib\\site-packages (from fastai) (23.2.1)\n",
      "Requirement already satisfied: packaging in c:\\users\\shekhar\\appdata\\roaming\\python\\python312\\site-packages (from fastai) (24.1)\n",
      "Requirement already satisfied: fastdownload<2,>=0.0.5 in c:\\users\\shekhar\\appdata\\roaming\\python\\python312\\site-packages (from fastai) (0.0.7)\n",
      "Requirement already satisfied: fastcore<1.8,>=1.5.29 in c:\\users\\shekhar\\appdata\\roaming\\python\\python312\\site-packages (from fastai) (1.7.1)\n",
      "Requirement already satisfied: torchvision>=0.11 in c:\\users\\shekhar\\appdata\\local\\programs\\python\\python312\\lib\\site-packages (from fastai) (0.19.1)\n",
      "Requirement already satisfied: matplotlib in c:\\users\\shekhar\\appdata\\local\\programs\\python\\python312\\lib\\site-packages (from fastai) (3.9.2)\n",
      "Requirement already satisfied: pandas in c:\\users\\shekhar\\appdata\\local\\programs\\python\\python312\\lib\\site-packages (from fastai) (2.2.2)\n",
      "Requirement already satisfied: requests in c:\\users\\shekhar\\appdata\\local\\programs\\python\\python312\\lib\\site-packages (from fastai) (2.32.3)\n",
      "Requirement already satisfied: pyyaml in c:\\users\\shekhar\\appdata\\local\\programs\\python\\python312\\lib\\site-packages (from fastai) (6.0.2)\n",
      "Requirement already satisfied: fastprogress>=0.2.4 in c:\\users\\shekhar\\appdata\\roaming\\python\\python312\\site-packages (from fastai) (1.0.3)\n",
      "Requirement already satisfied: pillow>=9.0.0 in c:\\users\\shekhar\\appdata\\local\\programs\\python\\python312\\lib\\site-packages (from fastai) (10.4.0)\n",
      "Requirement already satisfied: scikit-learn in c:\\users\\shekhar\\appdata\\roaming\\python\\python312\\site-packages (from fastai) (1.5.1)\n",
      "Requirement already satisfied: scipy in c:\\users\\shekhar\\appdata\\local\\programs\\python\\python312\\lib\\site-packages (from fastai) (1.14.1)\n",
      "Requirement already satisfied: spacy<4 in c:\\users\\shekhar\\appdata\\roaming\\python\\python312\\site-packages (from fastai) (3.7.6)\n",
      "Requirement already satisfied: torch<2.5,>=1.10 in c:\\users\\shekhar\\appdata\\local\\programs\\python\\python312\\lib\\site-packages (from fastai) (2.4.1)\n",
      "Requirement already satisfied: spacy-legacy<3.1.0,>=3.0.11 in c:\\users\\shekhar\\appdata\\roaming\\python\\python312\\site-packages (from spacy<4->fastai) (3.0.12)\n",
      "Requirement already satisfied: spacy-loggers<2.0.0,>=1.0.0 in c:\\users\\shekhar\\appdata\\roaming\\python\\python312\\site-packages (from spacy<4->fastai) (1.0.5)\n",
      "Requirement already satisfied: murmurhash<1.1.0,>=0.28.0 in c:\\users\\shekhar\\appdata\\roaming\\python\\python312\\site-packages (from spacy<4->fastai) (1.0.10)\n",
      "Requirement already satisfied: cymem<2.1.0,>=2.0.2 in c:\\users\\shekhar\\appdata\\roaming\\python\\python312\\site-packages (from spacy<4->fastai) (2.0.8)\n",
      "Requirement already satisfied: preshed<3.1.0,>=3.0.2 in c:\\users\\shekhar\\appdata\\roaming\\python\\python312\\site-packages (from spacy<4->fastai) (3.0.9)\n",
      "Requirement already satisfied: thinc<8.3.0,>=8.2.2 in c:\\users\\shekhar\\appdata\\roaming\\python\\python312\\site-packages (from spacy<4->fastai) (8.2.5)\n",
      "Requirement already satisfied: wasabi<1.2.0,>=0.9.1 in c:\\users\\shekhar\\appdata\\roaming\\python\\python312\\site-packages (from spacy<4->fastai) (1.1.3)\n",
      "Requirement already satisfied: srsly<3.0.0,>=2.4.3 in c:\\users\\shekhar\\appdata\\roaming\\python\\python312\\site-packages (from spacy<4->fastai) (2.4.8)\n",
      "Requirement already satisfied: catalogue<2.1.0,>=2.0.6 in c:\\users\\shekhar\\appdata\\roaming\\python\\python312\\site-packages (from spacy<4->fastai) (2.0.10)\n",
      "Requirement already satisfied: weasel<0.5.0,>=0.1.0 in c:\\users\\shekhar\\appdata\\roaming\\python\\python312\\site-packages (from spacy<4->fastai) (0.4.1)\n",
      "Requirement already satisfied: typer<1.0.0,>=0.3.0 in c:\\users\\shekhar\\appdata\\roaming\\python\\python312\\site-packages (from spacy<4->fastai) (0.12.5)\n",
      "Requirement already satisfied: tqdm<5.0.0,>=4.38.0 in c:\\users\\shekhar\\appdata\\local\\programs\\python\\python312\\lib\\site-packages (from spacy<4->fastai) (4.66.5)\n",
      "Requirement already satisfied: pydantic!=1.8,!=1.8.1,<3.0.0,>=1.7.4 in c:\\users\\shekhar\\appdata\\roaming\\python\\python312\\site-packages (from spacy<4->fastai) (2.8.2)\n",
      "Requirement already satisfied: jinja2 in c:\\users\\shekhar\\appdata\\local\\programs\\python\\python312\\lib\\site-packages (from spacy<4->fastai) (3.1.4)\n",
      "Requirement already satisfied: setuptools in c:\\users\\shekhar\\appdata\\local\\programs\\python\\python312\\lib\\site-packages (from spacy<4->fastai) (74.1.2)\n",
      "Requirement already satisfied: langcodes<4.0.0,>=3.2.0 in c:\\users\\shekhar\\appdata\\roaming\\python\\python312\\site-packages (from spacy<4->fastai) (3.4.0)\n",
      "Requirement already satisfied: numpy>=1.19.0 in c:\\users\\shekhar\\appdata\\local\\programs\\python\\python312\\lib\\site-packages (from spacy<4->fastai) (1.26.4)\n",
      "Requirement already satisfied: charset-normalizer<4,>=2 in c:\\users\\shekhar\\appdata\\local\\programs\\python\\python312\\lib\\site-packages (from requests->fastai) (3.3.2)\n",
      "Requirement already satisfied: idna<4,>=2.5 in c:\\users\\shekhar\\appdata\\local\\programs\\python\\python312\\lib\\site-packages (from requests->fastai) (3.8)\n",
      "Requirement already satisfied: urllib3<3,>=1.21.1 in c:\\users\\shekhar\\appdata\\local\\programs\\python\\python312\\lib\\site-packages (from requests->fastai) (2.2.2)\n",
      "Requirement already satisfied: certifi>=2017.4.17 in c:\\users\\shekhar\\appdata\\local\\programs\\python\\python312\\lib\\site-packages (from requests->fastai) (2024.8.30)\n",
      "Requirement already satisfied: filelock in c:\\users\\shekhar\\appdata\\local\\programs\\python\\python312\\lib\\site-packages (from torch<2.5,>=1.10->fastai) (3.15.4)\n",
      "Requirement already satisfied: typing-extensions>=4.8.0 in c:\\users\\shekhar\\appdata\\roaming\\python\\python312\\site-packages (from torch<2.5,>=1.10->fastai) (4.12.2)\n",
      "Requirement already satisfied: sympy in c:\\users\\shekhar\\appdata\\local\\programs\\python\\python312\\lib\\site-packages (from torch<2.5,>=1.10->fastai) (1.13.2)\n",
      "Requirement already satisfied: networkx in c:\\users\\shekhar\\appdata\\local\\programs\\python\\python312\\lib\\site-packages (from torch<2.5,>=1.10->fastai) (3.3)\n",
      "Requirement already satisfied: fsspec in c:\\users\\shekhar\\appdata\\roaming\\python\\python312\\site-packages (from torch<2.5,>=1.10->fastai) (2024.9.0)\n",
      "Requirement already satisfied: contourpy>=1.0.1 in c:\\users\\shekhar\\appdata\\local\\programs\\python\\python312\\lib\\site-packages (from matplotlib->fastai) (1.3.0)\n",
      "Requirement already satisfied: cycler>=0.10 in c:\\users\\shekhar\\appdata\\local\\programs\\python\\python312\\lib\\site-packages (from matplotlib->fastai) (0.12.1)\n",
      "Requirement already satisfied: fonttools>=4.22.0 in c:\\users\\shekhar\\appdata\\local\\programs\\python\\python312\\lib\\site-packages (from matplotlib->fastai) (4.53.1)\n",
      "Requirement already satisfied: kiwisolver>=1.3.1 in c:\\users\\shekhar\\appdata\\local\\programs\\python\\python312\\lib\\site-packages (from matplotlib->fastai) (1.4.7)\n",
      "Requirement already satisfied: pyparsing>=2.3.1 in c:\\users\\shekhar\\appdata\\local\\programs\\python\\python312\\lib\\site-packages (from matplotlib->fastai) (3.1.4)\n",
      "Requirement already satisfied: python-dateutil>=2.7 in c:\\users\\shekhar\\appdata\\roaming\\python\\python312\\site-packages (from matplotlib->fastai) (2.9.0.post0)\n",
      "Requirement already satisfied: pytz>=2020.1 in c:\\users\\shekhar\\appdata\\local\\programs\\python\\python312\\lib\\site-packages (from pandas->fastai) (2024.1)\n",
      "Requirement already satisfied: tzdata>=2022.7 in c:\\users\\shekhar\\appdata\\local\\programs\\python\\python312\\lib\\site-packages (from pandas->fastai) (2024.1)\n",
      "Requirement already satisfied: joblib>=1.2.0 in c:\\users\\shekhar\\appdata\\local\\programs\\python\\python312\\lib\\site-packages (from scikit-learn->fastai) (1.4.2)\n",
      "Requirement already satisfied: threadpoolctl>=3.1.0 in c:\\users\\shekhar\\appdata\\roaming\\python\\python312\\site-packages (from scikit-learn->fastai) (3.5.0)\n",
      "Requirement already satisfied: language-data>=1.2 in c:\\users\\shekhar\\appdata\\roaming\\python\\python312\\site-packages (from langcodes<4.0.0,>=3.2.0->spacy<4->fastai) (1.2.0)\n",
      "Requirement already satisfied: annotated-types>=0.4.0 in c:\\users\\shekhar\\appdata\\local\\programs\\python\\python312\\lib\\site-packages (from pydantic!=1.8,!=1.8.1,<3.0.0,>=1.7.4->spacy<4->fastai) (0.7.0)\n",
      "Requirement already satisfied: pydantic-core==2.20.1 in c:\\users\\shekhar\\appdata\\roaming\\python\\python312\\site-packages (from pydantic!=1.8,!=1.8.1,<3.0.0,>=1.7.4->spacy<4->fastai) (2.20.1)\n",
      "Requirement already satisfied: six>=1.5 in c:\\users\\shekhar\\appdata\\roaming\\python\\python312\\site-packages (from python-dateutil>=2.7->matplotlib->fastai) (1.16.0)\n",
      "Requirement already satisfied: blis<0.8.0,>=0.7.8 in c:\\users\\shekhar\\appdata\\roaming\\python\\python312\\site-packages (from thinc<8.3.0,>=8.2.2->spacy<4->fastai) (0.7.11)\n",
      "Requirement already satisfied: confection<1.0.0,>=0.0.1 in c:\\users\\shekhar\\appdata\\roaming\\python\\python312\\site-packages (from thinc<8.3.0,>=8.2.2->spacy<4->fastai) (0.1.5)\n",
      "Requirement already satisfied: colorama in c:\\users\\shekhar\\appdata\\roaming\\python\\python312\\site-packages (from tqdm<5.0.0,>=4.38.0->spacy<4->fastai) (0.4.6)\n",
      "Requirement already satisfied: click>=8.0.0 in c:\\users\\shekhar\\appdata\\local\\programs\\python\\python312\\lib\\site-packages (from typer<1.0.0,>=0.3.0->spacy<4->fastai) (8.1.7)\n",
      "Requirement already satisfied: shellingham>=1.3.0 in c:\\users\\shekhar\\appdata\\roaming\\python\\python312\\site-packages (from typer<1.0.0,>=0.3.0->spacy<4->fastai) (1.5.4)\n",
      "Requirement already satisfied: rich>=10.11.0 in c:\\users\\shekhar\\appdata\\local\\programs\\python\\python312\\lib\\site-packages (from typer<1.0.0,>=0.3.0->spacy<4->fastai) (13.8.0)\n",
      "Requirement already satisfied: cloudpathlib<1.0.0,>=0.7.0 in c:\\users\\shekhar\\appdata\\roaming\\python\\python312\\site-packages (from weasel<0.5.0,>=0.1.0->spacy<4->fastai) (0.18.1)\n",
      "Requirement already satisfied: smart-open<8.0.0,>=5.2.1 in c:\\users\\shekhar\\appdata\\local\\programs\\python\\python312\\lib\\site-packages (from weasel<0.5.0,>=0.1.0->spacy<4->fastai) (7.0.4)\n",
      "Requirement already satisfied: MarkupSafe>=2.0 in c:\\users\\shekhar\\appdata\\local\\programs\\python\\python312\\lib\\site-packages (from jinja2->spacy<4->fastai) (2.1.5)\n",
      "Requirement already satisfied: mpmath<1.4,>=1.1.0 in c:\\users\\shekhar\\appdata\\local\\programs\\python\\python312\\lib\\site-packages (from sympy->torch<2.5,>=1.10->fastai) (1.3.0)\n",
      "Requirement already satisfied: marisa-trie>=0.7.7 in c:\\users\\shekhar\\appdata\\roaming\\python\\python312\\site-packages (from language-data>=1.2->langcodes<4.0.0,>=3.2.0->spacy<4->fastai) (1.2.0)\n",
      "Requirement already satisfied: markdown-it-py>=2.2.0 in c:\\users\\shekhar\\appdata\\local\\programs\\python\\python312\\lib\\site-packages (from rich>=10.11.0->typer<1.0.0,>=0.3.0->spacy<4->fastai) (3.0.0)\n",
      "Requirement already satisfied: pygments<3.0.0,>=2.13.0 in c:\\users\\shekhar\\appdata\\roaming\\python\\python312\\site-packages (from rich>=10.11.0->typer<1.0.0,>=0.3.0->spacy<4->fastai) (2.18.0)\n",
      "Requirement already satisfied: wrapt in c:\\users\\shekhar\\appdata\\local\\programs\\python\\python312\\lib\\site-packages (from smart-open<8.0.0,>=5.2.1->weasel<0.5.0,>=0.1.0->spacy<4->fastai) (1.16.0)\n",
      "Requirement already satisfied: mdurl~=0.1 in c:\\users\\shekhar\\appdata\\local\\programs\\python\\python312\\lib\\site-packages (from markdown-it-py>=2.2.0->rich>=10.11.0->typer<1.0.0,>=0.3.0->spacy<4->fastai) (0.1.2)\n"
     ]
    },
    {
     "name": "stderr",
     "output_type": "stream",
     "text": [
      "\n",
      "[notice] A new release of pip is available: 23.2.1 -> 24.2\n",
      "[notice] To update, run: python.exe -m pip install --upgrade pip\n"
     ]
    },
    {
     "name": "stdout",
     "output_type": "stream",
     "text": [
      "Requirement already satisfied: torch in c:\\users\\shekhar\\appdata\\local\\programs\\python\\python312\\lib\\site-packages (2.4.1)Note: you may need to restart the kernel to use updated packages.\n",
      "\n",
      "Requirement already satisfied: filelock in c:\\users\\shekhar\\appdata\\local\\programs\\python\\python312\\lib\\site-packages (from torch) (3.15.4)\n",
      "Requirement already satisfied: typing-extensions>=4.8.0 in c:\\users\\shekhar\\appdata\\roaming\\python\\python312\\site-packages (from torch) (4.12.2)\n",
      "Requirement already satisfied: sympy in c:\\users\\shekhar\\appdata\\local\\programs\\python\\python312\\lib\\site-packages (from torch) (1.13.2)\n",
      "Requirement already satisfied: networkx in c:\\users\\shekhar\\appdata\\local\\programs\\python\\python312\\lib\\site-packages (from torch) (3.3)\n",
      "Requirement already satisfied: jinja2 in c:\\users\\shekhar\\appdata\\local\\programs\\python\\python312\\lib\\site-packages (from torch) (3.1.4)\n",
      "Requirement already satisfied: fsspec in c:\\users\\shekhar\\appdata\\roaming\\python\\python312\\site-packages (from torch) (2024.9.0)\n",
      "Requirement already satisfied: setuptools in c:\\users\\shekhar\\appdata\\local\\programs\\python\\python312\\lib\\site-packages (from torch) (74.1.2)\n",
      "Requirement already satisfied: MarkupSafe>=2.0 in c:\\users\\shekhar\\appdata\\local\\programs\\python\\python312\\lib\\site-packages (from jinja2->torch) (2.1.5)\n",
      "Requirement already satisfied: mpmath<1.4,>=1.1.0 in c:\\users\\shekhar\\appdata\\local\\programs\\python\\python312\\lib\\site-packages (from sympy->torch) (1.3.0)\n"
     ]
    },
    {
     "name": "stderr",
     "output_type": "stream",
     "text": [
      "\n",
      "[notice] A new release of pip is available: 23.2.1 -> 24.2\n",
      "[notice] To update, run: python.exe -m pip install --upgrade pip\n"
     ]
    }
   ],
   "source": [
    "import numpy as np \n",
    "import pandas as pd \n",
    "\n",
    "!pip install fastai --upgrade\n",
    "import os\n",
    "\n",
    "import time\n",
    "import matplotlib.pyplot as plt\n",
    "from fastai.vision.all import *\n",
    "%pip install torch\n",
    "import torch\n",
    "import numpy as np\n",
    "import random\n",
    "from sklearn.metrics import roc_curve, auc"
   ]
  },
  {
   "cell_type": "code",
   "execution_count": 2,
   "id": "fbef792b-5396-447e-aaf2-60304a0843db",
   "metadata": {},
   "outputs": [],
   "source": [
    "def set_seed(seed=42):\n",
    "    torch.manual_seed(seed)\n",
    "    np.random.seed(seed)\n",
    "    random.seed(seed)\n",
    "    if torch.cuda.is_available():\n",
    "        torch.cuda.manual_seed(seed)\n",
    "        torch.cuda.manual_seed_all(seed)\n",
    "    torch.backends.cudnn.deterministic = True\n",
    "    torch.backends.cudnn.benchmark = False"
   ]
  },
  {
   "cell_type": "code",
   "execution_count": 3,
   "id": "5c6300dd-7fc7-41e0-9964-126e97ff4206",
   "metadata": {},
   "outputs": [],
   "source": [
    "set_seed(42)"
   ]
  },
  {
   "cell_type": "code",
   "execution_count": 4,
   "id": "81fd176a-4832-4e68-bb06-a11ee34f97db",
   "metadata": {},
   "outputs": [
    {
     "ename": "TypeError",
     "evalue": "'NoneType' object is not iterable",
     "output_type": "error",
     "traceback": [
      "\u001b[1;31m---------------------------------------------------------------------------\u001b[0m",
      "\u001b[1;31mTypeError\u001b[0m                                 Traceback (most recent call last)",
      "Cell \u001b[1;32mIn[4], line 10\u001b[0m\n\u001b[0;32m      1\u001b[0m path \u001b[38;5;241m=\u001b[39m \u001b[38;5;124mr\u001b[39m\u001b[38;5;124m'\u001b[39m\u001b[38;5;124mC:\u001b[39m\u001b[38;5;124m\\\u001b[39m\u001b[38;5;124mUsers\u001b[39m\u001b[38;5;124m\\\u001b[39m\u001b[38;5;124mShekhar\u001b[39m\u001b[38;5;124m\\\u001b[39m\u001b[38;5;124mAppData\u001b[39m\u001b[38;5;124m\\\u001b[39m\u001b[38;5;124mLocal\u001b[39m\u001b[38;5;124m\\\u001b[39m\u001b[38;5;124mTemp\u001b[39m\u001b[38;5;124m\\\u001b[39m\u001b[38;5;124mMicrosoftEdgeDownloads\u001b[39m\u001b[38;5;124m\\\u001b[39m\u001b[38;5;124m8eb0284a-e393-4590-9bdd-9951636b89e8\u001b[39m\u001b[38;5;124m\\\u001b[39m\u001b[38;5;124mFaultfindy.zip\u001b[39m\u001b[38;5;124m\\\u001b[39m\u001b[38;5;124mDigital images of defective and good condition tyres\u001b[39m\u001b[38;5;124m'\u001b[39m\n\u001b[0;32m      2\u001b[0m data \u001b[38;5;241m=\u001b[39m DataBlock(\n\u001b[0;32m      3\u001b[0m     blocks\u001b[38;5;241m=\u001b[39m(ImageBlock, CategoryBlock),\n\u001b[0;32m      4\u001b[0m     get_items\u001b[38;5;241m=\u001b[39mget_image_files,\n\u001b[1;32m   (...)\u001b[0m\n\u001b[0;32m      8\u001b[0m     batch_tfms\u001b[38;5;241m=\u001b[39m[\u001b[38;5;241m*\u001b[39maug_transforms(size\u001b[38;5;241m=\u001b[39m\u001b[38;5;241m224\u001b[39m, max_warp\u001b[38;5;241m=\u001b[39m\u001b[38;5;241m0\u001b[39m), Normalize\u001b[38;5;241m.\u001b[39mfrom_stats(\u001b[38;5;241m*\u001b[39mimagenet_stats)]\n\u001b[0;32m      9\u001b[0m )\n\u001b[1;32m---> 10\u001b[0m dls \u001b[38;5;241m=\u001b[39m \u001b[43mdata\u001b[49m\u001b[38;5;241;43m.\u001b[39;49m\u001b[43mdataloaders\u001b[49m\u001b[43m(\u001b[49m\u001b[43mpath\u001b[49m\u001b[43m)\u001b[49m\n",
      "File \u001b[1;32m~\\AppData\\Roaming\\Python\\Python312\\site-packages\\fastai\\data\\block.py:157\u001b[0m, in \u001b[0;36mDataBlock.dataloaders\u001b[1;34m(self, source, path, verbose, **kwargs)\u001b[0m\n\u001b[0;32m    151\u001b[0m \u001b[38;5;28;01mdef\u001b[39;00m \u001b[38;5;21mdataloaders\u001b[39m(\u001b[38;5;28mself\u001b[39m, \n\u001b[0;32m    152\u001b[0m     source, \u001b[38;5;66;03m# The data source\u001b[39;00m\n\u001b[0;32m    153\u001b[0m     path:\u001b[38;5;28mstr\u001b[39m\u001b[38;5;241m=\u001b[39m\u001b[38;5;124m'\u001b[39m\u001b[38;5;124m.\u001b[39m\u001b[38;5;124m'\u001b[39m, \u001b[38;5;66;03m# Data source and default `Learner` path \u001b[39;00m\n\u001b[0;32m    154\u001b[0m     verbose:\u001b[38;5;28mbool\u001b[39m\u001b[38;5;241m=\u001b[39m\u001b[38;5;28;01mFalse\u001b[39;00m, \u001b[38;5;66;03m# Show verbose messages\u001b[39;00m\n\u001b[0;32m    155\u001b[0m     \u001b[38;5;241m*\u001b[39m\u001b[38;5;241m*\u001b[39mkwargs\n\u001b[0;32m    156\u001b[0m ) \u001b[38;5;241m-\u001b[39m\u001b[38;5;241m>\u001b[39m DataLoaders:\n\u001b[1;32m--> 157\u001b[0m     dsets \u001b[38;5;241m=\u001b[39m \u001b[38;5;28;43mself\u001b[39;49m\u001b[38;5;241;43m.\u001b[39;49m\u001b[43mdatasets\u001b[49m\u001b[43m(\u001b[49m\u001b[43msource\u001b[49m\u001b[43m,\u001b[49m\u001b[43m \u001b[49m\u001b[43mverbose\u001b[49m\u001b[38;5;241;43m=\u001b[39;49m\u001b[43mverbose\u001b[49m\u001b[43m)\u001b[49m\n\u001b[0;32m    158\u001b[0m     kwargs \u001b[38;5;241m=\u001b[39m {\u001b[38;5;241m*\u001b[39m\u001b[38;5;241m*\u001b[39m\u001b[38;5;28mself\u001b[39m\u001b[38;5;241m.\u001b[39mdls_kwargs, \u001b[38;5;241m*\u001b[39m\u001b[38;5;241m*\u001b[39mkwargs, \u001b[38;5;124m'\u001b[39m\u001b[38;5;124mverbose\u001b[39m\u001b[38;5;124m'\u001b[39m: verbose}\n\u001b[0;32m    159\u001b[0m     \u001b[38;5;28;01mreturn\u001b[39;00m dsets\u001b[38;5;241m.\u001b[39mdataloaders(path\u001b[38;5;241m=\u001b[39mpath, after_item\u001b[38;5;241m=\u001b[39m\u001b[38;5;28mself\u001b[39m\u001b[38;5;241m.\u001b[39mitem_tfms, after_batch\u001b[38;5;241m=\u001b[39m\u001b[38;5;28mself\u001b[39m\u001b[38;5;241m.\u001b[39mbatch_tfms, \u001b[38;5;241m*\u001b[39m\u001b[38;5;241m*\u001b[39mkwargs)\n",
      "File \u001b[1;32m~\\AppData\\Roaming\\Python\\Python312\\site-packages\\fastai\\data\\block.py:149\u001b[0m, in \u001b[0;36mDataBlock.datasets\u001b[1;34m(self, source, verbose)\u001b[0m\n\u001b[0;32m    147\u001b[0m splits \u001b[38;5;241m=\u001b[39m (\u001b[38;5;28mself\u001b[39m\u001b[38;5;241m.\u001b[39msplitter \u001b[38;5;129;01mor\u001b[39;00m RandomSplitter())(items)\n\u001b[0;32m    148\u001b[0m pv(\u001b[38;5;124mf\u001b[39m\u001b[38;5;124m\"\u001b[39m\u001b[38;5;132;01m{\u001b[39;00m\u001b[38;5;28mlen\u001b[39m(splits)\u001b[38;5;132;01m}\u001b[39;00m\u001b[38;5;124m datasets of sizes \u001b[39m\u001b[38;5;132;01m{\u001b[39;00m\u001b[38;5;124m'\u001b[39m\u001b[38;5;124m,\u001b[39m\u001b[38;5;124m'\u001b[39m\u001b[38;5;241m.\u001b[39mjoin([\u001b[38;5;28mstr\u001b[39m(\u001b[38;5;28mlen\u001b[39m(s))\u001b[38;5;250m \u001b[39m\u001b[38;5;28;01mfor\u001b[39;00m\u001b[38;5;250m \u001b[39ms\u001b[38;5;250m \u001b[39m\u001b[38;5;129;01min\u001b[39;00m\u001b[38;5;250m \u001b[39msplits])\u001b[38;5;132;01m}\u001b[39;00m\u001b[38;5;124m\"\u001b[39m, verbose)\n\u001b[1;32m--> 149\u001b[0m \u001b[38;5;28;01mreturn\u001b[39;00m \u001b[43mDatasets\u001b[49m\u001b[43m(\u001b[49m\u001b[43mitems\u001b[49m\u001b[43m,\u001b[49m\u001b[43m \u001b[49m\u001b[43mtfms\u001b[49m\u001b[38;5;241;43m=\u001b[39;49m\u001b[38;5;28;43mself\u001b[39;49m\u001b[38;5;241;43m.\u001b[39;49m\u001b[43m_combine_type_tfms\u001b[49m\u001b[43m(\u001b[49m\u001b[43m)\u001b[49m\u001b[43m,\u001b[49m\u001b[43m \u001b[49m\u001b[43msplits\u001b[49m\u001b[38;5;241;43m=\u001b[39;49m\u001b[43msplits\u001b[49m\u001b[43m,\u001b[49m\u001b[43m \u001b[49m\u001b[43mdl_type\u001b[49m\u001b[38;5;241;43m=\u001b[39;49m\u001b[38;5;28;43mself\u001b[39;49m\u001b[38;5;241;43m.\u001b[39;49m\u001b[43mdl_type\u001b[49m\u001b[43m,\u001b[49m\u001b[43m \u001b[49m\u001b[43mn_inp\u001b[49m\u001b[38;5;241;43m=\u001b[39;49m\u001b[38;5;28;43mself\u001b[39;49m\u001b[38;5;241;43m.\u001b[39;49m\u001b[43mn_inp\u001b[49m\u001b[43m,\u001b[49m\u001b[43m \u001b[49m\u001b[43mverbose\u001b[49m\u001b[38;5;241;43m=\u001b[39;49m\u001b[43mverbose\u001b[49m\u001b[43m)\u001b[49m\n",
      "File \u001b[1;32m~\\AppData\\Roaming\\Python\\Python312\\site-packages\\fastai\\data\\core.py:445\u001b[0m, in \u001b[0;36mDatasets.__init__\u001b[1;34m(self, items, tfms, tls, n_inp, dl_type, **kwargs)\u001b[0m\n\u001b[0;32m    436\u001b[0m \u001b[38;5;28;01mdef\u001b[39;00m \u001b[38;5;21m__init__\u001b[39m(\u001b[38;5;28mself\u001b[39m, \n\u001b[0;32m    437\u001b[0m     items:\u001b[38;5;28mlist\u001b[39m\u001b[38;5;241m=\u001b[39m\u001b[38;5;28;01mNone\u001b[39;00m, \u001b[38;5;66;03m# List of items to create `Datasets`\u001b[39;00m\n\u001b[0;32m    438\u001b[0m     tfms:MutableSequence\u001b[38;5;241m|\u001b[39mPipeline\u001b[38;5;241m=\u001b[39m\u001b[38;5;28;01mNone\u001b[39;00m, \u001b[38;5;66;03m# List of `Transform`(s) or `Pipeline` to apply\u001b[39;00m\n\u001b[1;32m   (...)\u001b[0m\n\u001b[0;32m    442\u001b[0m     \u001b[38;5;241m*\u001b[39m\u001b[38;5;241m*\u001b[39mkwargs\n\u001b[0;32m    443\u001b[0m ):\n\u001b[0;32m    444\u001b[0m     \u001b[38;5;28msuper\u001b[39m()\u001b[38;5;241m.\u001b[39m\u001b[38;5;21m__init__\u001b[39m(dl_type\u001b[38;5;241m=\u001b[39mdl_type)\n\u001b[1;32m--> 445\u001b[0m     \u001b[38;5;28mself\u001b[39m\u001b[38;5;241m.\u001b[39mtls \u001b[38;5;241m=\u001b[39m L(tls \u001b[38;5;28;01mif\u001b[39;00m tls \u001b[38;5;28;01melse\u001b[39;00m [\u001b[43mTfmdLists\u001b[49m\u001b[43m(\u001b[49m\u001b[43mitems\u001b[49m\u001b[43m,\u001b[49m\u001b[43m \u001b[49m\u001b[43mt\u001b[49m\u001b[43m,\u001b[49m\u001b[43m \u001b[49m\u001b[38;5;241;43m*\u001b[39;49m\u001b[38;5;241;43m*\u001b[39;49m\u001b[43mkwargs\u001b[49m\u001b[43m)\u001b[49m \u001b[38;5;28;01mfor\u001b[39;00m t \u001b[38;5;129;01min\u001b[39;00m L(ifnone(tfms,[\u001b[38;5;28;01mNone\u001b[39;00m]))])\n\u001b[0;32m    446\u001b[0m     \u001b[38;5;28mself\u001b[39m\u001b[38;5;241m.\u001b[39mn_inp \u001b[38;5;241m=\u001b[39m ifnone(n_inp, \u001b[38;5;28mmax\u001b[39m(\u001b[38;5;241m1\u001b[39m, \u001b[38;5;28mlen\u001b[39m(\u001b[38;5;28mself\u001b[39m\u001b[38;5;241m.\u001b[39mtls)\u001b[38;5;241m-\u001b[39m\u001b[38;5;241m1\u001b[39m))\n",
      "File \u001b[1;32m~\\AppData\\Roaming\\Python\\Python312\\site-packages\\fastcore\\foundation.py:98\u001b[0m, in \u001b[0;36m_L_Meta.__call__\u001b[1;34m(cls, x, *args, **kwargs)\u001b[0m\n\u001b[0;32m     96\u001b[0m \u001b[38;5;28;01mdef\u001b[39;00m \u001b[38;5;21m__call__\u001b[39m(\u001b[38;5;28mcls\u001b[39m, x\u001b[38;5;241m=\u001b[39m\u001b[38;5;28;01mNone\u001b[39;00m, \u001b[38;5;241m*\u001b[39margs, \u001b[38;5;241m*\u001b[39m\u001b[38;5;241m*\u001b[39mkwargs):\n\u001b[0;32m     97\u001b[0m     \u001b[38;5;28;01mif\u001b[39;00m \u001b[38;5;129;01mnot\u001b[39;00m args \u001b[38;5;129;01mand\u001b[39;00m \u001b[38;5;129;01mnot\u001b[39;00m kwargs \u001b[38;5;129;01mand\u001b[39;00m x \u001b[38;5;129;01mis\u001b[39;00m \u001b[38;5;129;01mnot\u001b[39;00m \u001b[38;5;28;01mNone\u001b[39;00m \u001b[38;5;129;01mand\u001b[39;00m \u001b[38;5;28misinstance\u001b[39m(x,\u001b[38;5;28mcls\u001b[39m): \u001b[38;5;28;01mreturn\u001b[39;00m x\n\u001b[1;32m---> 98\u001b[0m     \u001b[38;5;28;01mreturn\u001b[39;00m \u001b[38;5;28;43msuper\u001b[39;49m\u001b[43m(\u001b[49m\u001b[43m)\u001b[49m\u001b[38;5;241;43m.\u001b[39;49m\u001b[38;5;21;43m__call__\u001b[39;49m\u001b[43m(\u001b[49m\u001b[43mx\u001b[49m\u001b[43m,\u001b[49m\u001b[43m \u001b[49m\u001b[38;5;241;43m*\u001b[39;49m\u001b[43margs\u001b[49m\u001b[43m,\u001b[49m\u001b[43m \u001b[49m\u001b[38;5;241;43m*\u001b[39;49m\u001b[38;5;241;43m*\u001b[39;49m\u001b[43mkwargs\u001b[49m\u001b[43m)\u001b[49m\n",
      "File \u001b[1;32m~\\AppData\\Roaming\\Python\\Python312\\site-packages\\fastai\\data\\core.py:359\u001b[0m, in \u001b[0;36mTfmdLists.__init__\u001b[1;34m(self, items, tfms, use_list, do_setup, split_idx, train_setup, splits, types, verbose, dl_type)\u001b[0m\n\u001b[0;32m    357\u001b[0m \u001b[38;5;28;01mif\u001b[39;00m do_setup:\n\u001b[0;32m    358\u001b[0m     pv(\u001b[38;5;124mf\u001b[39m\u001b[38;5;124m\"\u001b[39m\u001b[38;5;124mSetting up \u001b[39m\u001b[38;5;132;01m{\u001b[39;00m\u001b[38;5;28mself\u001b[39m\u001b[38;5;241m.\u001b[39mtfms\u001b[38;5;132;01m}\u001b[39;00m\u001b[38;5;124m\"\u001b[39m, verbose)\n\u001b[1;32m--> 359\u001b[0m     \u001b[38;5;28;43mself\u001b[39;49m\u001b[38;5;241;43m.\u001b[39;49m\u001b[43msetup\u001b[49m\u001b[43m(\u001b[49m\u001b[43mtrain_setup\u001b[49m\u001b[38;5;241;43m=\u001b[39;49m\u001b[43mtrain_setup\u001b[49m\u001b[43m)\u001b[49m\n",
      "File \u001b[1;32m~\\AppData\\Roaming\\Python\\Python312\\site-packages\\fastai\\data\\core.py:388\u001b[0m, in \u001b[0;36mTfmdLists.setup\u001b[1;34m(self, train_setup)\u001b[0m\n\u001b[0;32m    386\u001b[0m         x \u001b[38;5;241m=\u001b[39m f(x)\n\u001b[0;32m    387\u001b[0m     \u001b[38;5;28mself\u001b[39m\u001b[38;5;241m.\u001b[39mtypes\u001b[38;5;241m.\u001b[39mappend(\u001b[38;5;28mtype\u001b[39m(x))\n\u001b[1;32m--> 388\u001b[0m types \u001b[38;5;241m=\u001b[39m L\u001b[43m(\u001b[49m\u001b[43mt\u001b[49m\u001b[43m \u001b[49m\u001b[38;5;28;43;01mif\u001b[39;49;00m\u001b[43m \u001b[49m\u001b[43mis_listy\u001b[49m\u001b[43m(\u001b[49m\u001b[43mt\u001b[49m\u001b[43m)\u001b[49m\u001b[43m \u001b[49m\u001b[38;5;28;43;01melse\u001b[39;49;00m\u001b[43m \u001b[49m\u001b[43m[\u001b[49m\u001b[43mt\u001b[49m\u001b[43m]\u001b[49m\u001b[43m \u001b[49m\u001b[38;5;28;43;01mfor\u001b[39;49;00m\u001b[43m \u001b[49m\u001b[43mt\u001b[49m\u001b[43m \u001b[49m\u001b[38;5;129;43;01min\u001b[39;49;00m\u001b[43m \u001b[49m\u001b[38;5;28;43mself\u001b[39;49m\u001b[38;5;241;43m.\u001b[39;49m\u001b[43mtypes\u001b[49m\u001b[43m)\u001b[49m\u001b[38;5;241m.\u001b[39mconcat()\u001b[38;5;241m.\u001b[39munique()\n\u001b[0;32m    389\u001b[0m \u001b[38;5;28mself\u001b[39m\u001b[38;5;241m.\u001b[39mpretty_types \u001b[38;5;241m=\u001b[39m \u001b[38;5;124m'\u001b[39m\u001b[38;5;130;01m\\n\u001b[39;00m\u001b[38;5;124m'\u001b[39m\u001b[38;5;241m.\u001b[39mjoin([\u001b[38;5;124mf\u001b[39m\u001b[38;5;124m'\u001b[39m\u001b[38;5;124m  - \u001b[39m\u001b[38;5;132;01m{\u001b[39;00mt\u001b[38;5;132;01m}\u001b[39;00m\u001b[38;5;124m'\u001b[39m \u001b[38;5;28;01mfor\u001b[39;00m t \u001b[38;5;129;01min\u001b[39;00m types])\n",
      "\u001b[1;31mTypeError\u001b[0m: 'NoneType' object is not iterable"
     ]
    }
   ],
   "source": [
    "path = r'C:\\Users\\Shekhar\\OneDrive\\Desktop\\Capstone DS\\Faultfindy\\Faultfindy'\n",
    "data = DataBlock(\n",
    "    blocks=(ImageBlock, CategoryBlock),\n",
    "    get_items=get_image_files,\n",
    "    splitter=RandomSplitter(valid_pct=0.2, seed=42),\n",
    "    get_y=parent_label,\n",
    "    item_tfms=Resize(460),\n",
    "    batch_tfms=[*aug_transforms(size=224, max_warp=0), Normalize.from_stats(*imagenet_stats)]\n",
    ")\n",
    "dls = data.dataloaders(path)"
   ]
  },
  {
   "cell_type": "code",
   "execution_count": null,
   "id": "be855361-9659-4c97-9766-433fad8142c1",
   "metadata": {},
   "outputs": [],
   "source": [
    "dls.show_batch(max_n=6)\n",
    "print(f\"Number of training examples: {len(dls.train_ds)}, Number of validation examples: {len(dls.valid_ds)}\")"
   ]
  },
  {
   "cell_type": "code",
   "execution_count": null,
   "id": "fc64a293-b77c-4a6b-b671-e0f881122c01",
   "metadata": {},
   "outputs": [],
   "source": [
    "metrics = [accuracy, RocAucBinary()]\n",
    "def plot_roc_curve(learn, title=\"ROC Curve\"):\n",
    "    preds, targets = learn.get_preds()\n",
    "    fpr, tpr, thresholds = roc_curve(targets, preds[:,1])\n",
    "    roc_auc = auc(fpr, tpr)\n",
    "\n",
    "    plt.figure()\n",
    "    plt.plot(fpr, tpr, color='darkorange', lw=2, label=f'ROC curve (area = {roc_auc:.2f})')\n",
    "    plt.plot([0, 1], [0, 1], color='navy', lw=2, linestyle='--')\n",
    "    plt.xlabel('False Positive Rate')\n",
    "    plt.ylabel('True Positive Rate')\n",
    "    plt.title(title)\n",
    "    plt.legend(loc=\"lower right\")\n",
    "    plt.show()"
   ]
  },
  {
   "cell_type": "code",
   "execution_count": null,
   "id": "21d904fe-de84-47fe-bb06-7b88a08e487a",
   "metadata": {},
   "outputs": [],
   "source": [
    "learn_resnet34 = vision_learner(dls, resnet34, metrics=metrics)\n",
    "lr_resnet34 = learn_resnet34.lr_find()"
   ]
  },
  {
   "cell_type": "code",
   "execution_count": null,
   "id": "5bdcfe77-c170-4711-854b-482167a76678",
   "metadata": {},
   "outputs": [],
   "source": [
    "start_time_resnet34 = time.time()\n",
    "\n",
    "learn_resnet34.fine_tune(10, base_lr=lr_resnet34.valley, cbs=[EarlyStoppingCallback(monitor='valid_loss', patience=3)])\n",
    "\n",
    "end_time_resnet34 = time.time()\n",
    "training_time_resnet34 = end_time_resnet34 - start_time_resnet34\n",
    "training_time_resnet34"
   ]
  },
  {
   "cell_type": "code",
   "execution_count": null,
   "id": "18a2b0dc-b437-4157-8139-78108d1407ca",
   "metadata": {},
   "outputs": [],
   "source": [
    "accuracy_resnet34 = learn_resnet34.validate()[1]\n",
    "accuracy_resnet34"
   ]
  },
  {
   "cell_type": "code",
   "execution_count": null,
   "id": "dd5915ed-c5a3-4f1c-b542-e52589822eec",
   "metadata": {},
   "outputs": [],
   "source": [
    "interp_resnet34 = ClassificationInterpretation.from_learner(learn_resnet34)\n",
    "interp_resnet34.plot_top_losses(k=6)\n",
    "interp_resnet34.plot_confusion_matrix()\n",
    "plt.show()"
   ]
  },
  {
   "cell_type": "code",
   "execution_count": null,
   "id": "18671d1b-fe50-4fc0-85bc-0937d8b53907",
   "metadata": {},
   "outputs": [],
   "source": [
    "plot_roc_curve(learn_resnet34, \"ROC Curve for ResNet34\")"
   ]
  },
  {
   "cell_type": "code",
   "execution_count": null,
   "id": "0b114fd6-4d1e-4f6f-9b9e-4b73f2defaac",
   "metadata": {},
   "outputs": [],
   "source": [
    "learn_resnet50 = vision_learner(dls, resnet50, metrics=metrics)\n",
    "lr_resnet50 = learn_resnet50.lr_find()"
   ]
  },
  {
   "cell_type": "code",
   "execution_count": null,
   "id": "1f193567-49bb-4944-a47a-7ea8e2265b8f",
   "metadata": {},
   "outputs": [],
   "source": [
    "start_time_resnet50 = time.time()\n",
    "\n",
    "learn_resnet50.fine_tune(10, base_lr=lr_resnet50.valley, cbs=[EarlyStoppingCallback(monitor='valid_loss', patience=3)])\n",
    "\n",
    "end_time_resnet50 = time.time()\n",
    "training_time_resnet50 = end_time_resnet50 - start_time_resnet50\n",
    "training_time_resnet50"
   ]
  },
  {
   "cell_type": "code",
   "execution_count": null,
   "id": "b38211be-da3c-4bac-9975-3c59b9d89c8e",
   "metadata": {},
   "outputs": [],
   "source": [
    "accuracy_resnet50 = learn_resnet50.validate()[1]\n",
    "accuracy_resnet50"
   ]
  },
  {
   "cell_type": "code",
   "execution_count": null,
   "id": "fad58b17-e507-4f2b-b7a1-212f1a0f0d9b",
   "metadata": {},
   "outputs": [],
   "source": [
    "interp_resnet50 = ClassificationInterpretation.from_learner(learn_resnet50)\n",
    "interp_resnet50.plot_top_losses(k=6)\n",
    "interp_resnet50.plot_confusion_matrix()\n",
    "plt.show()"
   ]
  },
  {
   "cell_type": "code",
   "execution_count": null,
   "id": "3189d3fb-7d1f-4efe-8211-b7d13ab16dab",
   "metadata": {},
   "outputs": [],
   "source": [
    "plot_roc_curve(learn_resnet50, \"ROC Curve for ResNet50\")"
   ]
  },
  {
   "cell_type": "code",
   "execution_count": null,
   "id": "34feec2f-ffc3-409a-9ff1-dee467eb8363",
   "metadata": {},
   "outputs": [],
   "source": [
    "print(f\"Training time for ResNet34: {training_time_resnet34:.2f} seconds\")\n",
    "print(f\"Accuracy for ResNet34: {accuracy_resnet34:.4f}\")\n",
    "print(f\"Training time for ResNet50: {training_time_resnet50:.2f} seconds\")\n",
    "print(f\"Accuracy for ResNet50: {accuracy_resnet50:.4f}\")"
   ]
  },
  {
   "cell_type": "code",
   "execution_count": null,
   "id": "36a094cd-f1f4-4121-969e-b787ed6a670d",
   "metadata": {},
   "outputs": [],
   "source": [
    "learn_resnet34.export('resnet34_model.pkl')\n",
    "learn_resnet50.export('resnet50_model.pkl')"
   ]
  },
  {
   "cell_type": "code",
   "execution_count": null,
   "id": "7b2b3cfe-a4a1-4505-a86d-86adceefb013",
   "metadata": {},
   "outputs": [],
   "source": [
    "import time\n",
    "import ipywidgets as widgets\n",
    "from IPython.display import display\n",
    "from fastai.vision.all import PILImage, load_learner\n",
    "from PIL import UnidentifiedImageError\n",
    "models = {'ResNet34': 'resnet34_model.pkl', 'ResNet50': 'resnet50_model.pkl'}\n",
    "def load_model(change):\n",
    "    global learn\n",
    "    learn = load_learner(models[change.new])\n",
    "vbox = widgets.VBox()\n",
    "title = widgets.HTML('<h1>Tyre Defect Classifier</h1>')\n",
    "description = widgets.HTML('<p>This tool classifies tyres as defective or good.</p>')\n",
    "vbox.children += (title, description,)\n",
    "model_selector = widgets.Dropdown(options=models.keys(), description='Model:')\n",
    "model_selector.observe(load_model, names='value')\n",
    "vbox.children += (model_selector,)\n",
    "learn = load_learner(models[model_selector.value])\n",
    "uploader = widgets.FileUpload()\n",
    "vbox.children += (widgets.Label('Upload your image:'), uploader,)\n",
    "predict_btn = widgets.Button(description=\"Predict\", disabled=True, button_style='success')\n",
    "vbox.children += (predict_btn,)\n",
    "output_image = widgets.Output()\n",
    "output_label = widgets.Label()\n",
    "vbox.children += (output_image, output_label,)\n",
    "def update_button_state(change):\n",
    "    predict_btn.disabled = not bool(uploader.data)\n",
    "uploader.observe(update_button_state, names='data')\n",
    "def on_click_classify(change):\n",
    "    output_image.clear_output()\n",
    "    output_label.value = ''\n",
    "    if uploader.data:\n",
    "        try:\n",
    "            img = PILImage.create(uploader.data[-1])\n",
    "            with output_image:\n",
    "                display(img.to_thumb(128, 128))\n",
    "            start_time = time.time()\n",
    "            pred, _, probs = learn.predict(img)\n",
    "            end_time = time.time()\n",
    "            output_label.value = f'Prediction: {pred}; Probability: {max(probs):.04f}; Time taken: {end_time - start_time:.2f} seconds'\n",
    "        except UnidentifiedImageError:\n",
    "            output_label.value = 'Error: Uploaded file is not a valid image. Please upload a valid image file.'\n",
    "        except Exception as e:\n",
    "            output_label.value = f'Error: {str(e)}'\n",
    "            uploader.value.clear()\n",
    "        uploader._counter = 0\n",
    "        predict_btn.disabled = True\n",
    "predict_btn.on_click(on_click_classify)\n",
    "display(vbox)"
   ]
  },
  {
   "cell_type": "code",
   "execution_count": null,
   "id": "9d5866cb-8f95-4cc8-aff3-33fe6234af75",
   "metadata": {},
   "outputs": [],
   "source": []
  },
  {
   "cell_type": "code",
   "execution_count": null,
   "id": "68d35683-1a19-4de4-9a89-67540705ed3a",
   "metadata": {},
   "outputs": [],
   "source": []
  },
  {
   "cell_type": "code",
   "execution_count": null,
   "id": "1bda1444-55f4-4dd0-9d75-81746dd5aa4a",
   "metadata": {},
   "outputs": [],
   "source": []
  },
  {
   "cell_type": "code",
   "execution_count": null,
   "id": "9a2aefb6-897f-41b4-ba70-d2c72b1ea4bd",
   "metadata": {},
   "outputs": [],
   "source": []
  }
 ],
 "metadata": {
  "kernelspec": {
   "display_name": "Python 3 (ipykernel)",
   "language": "python",
   "name": "python3"
  },
  "language_info": {
   "codemirror_mode": {
    "name": "ipython",
    "version": 3
   },
   "file_extension": ".py",
   "mimetype": "text/x-python",
   "name": "python",
   "nbconvert_exporter": "python",
   "pygments_lexer": "ipython3",
   "version": "3.12.1"
  }
 },
 "nbformat": 4,
 "nbformat_minor": 5
}
