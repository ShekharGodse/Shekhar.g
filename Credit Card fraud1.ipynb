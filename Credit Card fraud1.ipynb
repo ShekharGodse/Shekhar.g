{
 "cells": [
  {
   "cell_type": "code",
   "execution_count": null,
   "id": "3fa90674-0949-4774-b4d8-9418e037311f",
   "metadata": {},
   "outputs": [],
   "source": [
    "!pip install xgboost"
   ]
  },
  {
   "cell_type": "code",
   "execution_count": null,
   "id": "707391ce-87dc-4d91-8dcf-f5b9a681c781",
   "metadata": {},
   "outputs": [],
   "source": [
    "import numpy as np\n",
    "import pandas as pd\n",
    "pd.set_option(\"display.max_columns\", 100)"
   ]
  },
  {
   "cell_type": "code",
   "execution_count": null,
   "id": "f28ef482-139f-4089-aadb-43d7cab3a62c",
   "metadata": {},
   "outputs": [],
   "source": [
    "import matplotlib.pyplot as plt\n",
    "%matplotlib inline\n",
    "import seaborn as sns\n",
    "import xgboost as xgb"
   ]
  },
  {
   "cell_type": "code",
   "execution_count": null,
   "id": "c7da9cbb-65d5-4433-b058-29909b68350e",
   "metadata": {},
   "outputs": [],
   "source": [
    "from sklearn.model_selection import train_test_split\n",
    "from sklearn import metrics\n",
    "from sklearn.preprocessing import StandardScaler\n",
    "from sklearn.preprocessing import PowerTransformer"
   ]
  },
  {
   "cell_type": "code",
   "execution_count": null,
   "id": "fc11e82b-589d-4a75-a899-33b708309153",
   "metadata": {},
   "outputs": [],
   "source": [
    "from sklearn.model_selection import KFold\n",
    "from sklearn.model_selection import GridSearchCV\n",
    "from sklearn.linear_model import LogisticRegression\n",
    "from sklearn.tree import DecisionTreeClassifier\n",
    "from sklearn.metrics import roc_curve, roc_auc_score\n",
    "from sklearn.metrics import f1_score, classification_report\n",
    "import warnings\n",
    "warnings.filterwarnings(\"ignore\")\n",
    "from xgboost import XGBClassifier"
   ]
  },
  {
   "cell_type": "code",
   "execution_count": null,
   "id": "024ee86a-7bd7-4cc7-8b6c-ae4fd4309bce",
   "metadata": {},
   "outputs": [],
   "source": [
    "file_path = 'E:\\Capstone DS\\Credit Card fraud\\creditcard1.csv'\n",
    "df = pd.read_csv(file_path)\n",
    "df.head()"
   ]
  },
  {
   "cell_type": "code",
   "execution_count": null,
   "id": "8967b72d-03b2-4ce4-bac8-5ee50825c5a9",
   "metadata": {},
   "outputs": [],
   "source": [
    "df.shape"
   ]
  },
  {
   "cell_type": "code",
   "execution_count": null,
   "id": "46cded26-2e7e-4b9b-bfb4-55020384045a",
   "metadata": {},
   "outputs": [],
   "source": [
    "df.describe()"
   ]
  },
  {
   "cell_type": "code",
   "execution_count": null,
   "id": "61f4afcd-2d70-4803-9396-2c64e2aa93de",
   "metadata": {},
   "outputs": [],
   "source": [
    "print(df.dtypes)\n",
    "print(df.info())"
   ]
  },
  {
   "cell_type": "code",
   "execution_count": null,
   "id": "5055405f-3f56-4b67-bb0d-c79b5dfe9f91",
   "metadata": {},
   "outputs": [],
   "source": [
    "total = df.isnull().sum().sort_values(ascending = False)\n",
    "percent = (df.isnull().sum()/df.isnull().count()*100).sort_values(ascending = False)\n",
    "pd.concat([total, percent], axis=1, keys=['Total', 'Percent']).transpose()"
   ]
  },
  {
   "cell_type": "code",
   "execution_count": null,
   "id": "29853804-af83-44fd-a172-65f39cd46a3b",
   "metadata": {},
   "outputs": [],
   "source": [
    "classes=df['Class'].value_counts()\n",
    "normal_share=round(classes[0]/df['Class'].count()*100,2)\n",
    "fraud_share=round(classes[1]/df['Class'].count()*100, 2)\n",
    "normal_share, fraud_share"
   ]
  },
  {
   "cell_type": "code",
   "execution_count": null,
   "id": "35a80ef6-14cc-455f-a67e-5e88b8f19321",
   "metadata": {},
   "outputs": [],
   "source": [
    "plt.figure(figsize=(15,7.5))\n",
    "\n",
    "plt.subplot(1,2,1)\n",
    "sns.countplot(df[\"Class\"])\n",
    "plt.ylabel(\"Number of transaction\")\n",
    "plt.xlabel(\"Class\")\n",
    "plt.title(\"Credit Card Fraud Class - data unbalance\")\n",
    "\n",
    "plt.subplot(1,2,2)\n",
    "fraud_percentage = {'Class':['Non-Fraudulent', 'Fraudulent'], 'Percentage':[normal_share, fraud_share]} \n",
    "df_fraud_percentage = pd.DataFrame(fraud_percentage) \n",
    "sns.barplot(x='Class',y='Percentage', data=df_fraud_percentage)\n",
    "plt.title('Percentage of fraudulent vs non-fraudulent transcations')\n",
    "\n",
    "plt.show()"
   ]
  },
  {
   "cell_type": "code",
   "execution_count": null,
   "id": "b26d58a6-e04c-4fba-8937-87c7d14c40bc",
   "metadata": {},
   "outputs": [],
   "source": [
    "sns.scatterplot(df[\"Time\"], df[\"Class\"])\n",
    "plt.title(\"Time vs Class scatter plot\")\n",
    "plt.show()"
   ]
  },
  {
   "cell_type": "code",
   "execution_count": null,
   "id": "34947c74-1829-4b55-98f4-0c857fa1d057",
   "metadata": {},
   "outputs": [],
   "source": [
    "sns.scatterplot(df[\"Amount\"], df[\"Class\"])\n",
    "plt.title(\"Amount vs Class scatter plot\")\n",
    "plt.show()"
   ]
  },
  {
   "cell_type": "code",
   "execution_count": null,
   "id": "62604f90-3dd5-4a82-853f-d89d46b803b8",
   "metadata": {},
   "outputs": [],
   "source": [
    "df = df.drop(\"Time\", axis = 1)"
   ]
  },
  {
   "cell_type": "code",
   "execution_count": null,
   "id": "917c5484-cc1c-4084-a23d-bc88075ec003",
   "metadata": {},
   "outputs": [],
   "source": [
    "var = list(df.columns.values)\n",
    "var.remove(\"Class\")\n",
    "i = 0\n",
    "t0 = df.loc[df['Class'] == 0]\n",
    "t1 = df.loc[df['Class'] == 1]\n",
    "\n",
    "plt.figure()\n",
    "fig, ax = plt.subplots(8,4,figsize=(16,28))\n",
    "\n",
    "for feature in var:\n",
    "    i += 1\n",
    "    plt.subplot(8,4,i)\n",
    "    sns.kdeplot(t0[feature], bw=0.5,label=\"0\")\n",
    "    sns.kdeplot(t1[feature], bw=0.5,label=\"1\")\n",
    "    plt.xlabel(feature, fontsize=12)\n",
    "    locs, labels = plt.xticks()\n",
    "    plt.tick_params(axis='both', which='major', labelsize=12)\n",
    "plt.show();"
   ]
  },
  {
   "cell_type": "code",
   "execution_count": null,
   "id": "66a84441-0d55-430c-a6c7-f14c2ac0086d",
   "metadata": {},
   "outputs": [],
   "source": [
    "y= df[\"Class\"]\n",
    "X = df.drop(\"Class\", axis = 1)"
   ]
  },
  {
   "cell_type": "code",
   "execution_count": null,
   "id": "4f507080-2b9d-47cb-bb2b-cd2cc079621d",
   "metadata": {},
   "outputs": [],
   "source": [
    "X_train, X_test, y_train, y_test = train_test_split(X, y, test_size=0.2, random_state = 42)"
   ]
  },
  {
   "cell_type": "code",
   "execution_count": null,
   "id": "8799f973-0e7a-4d06-8a10-9478ff68560e",
   "metadata": {},
   "outputs": [],
   "source": [
    "print(np.sum(y))\n",
    "print(np.sum(y_train))\n",
    "print(np.sum(y_test))"
   ]
  },
  {
   "cell_type": "code",
   "execution_count": null,
   "id": "16e5ab67-8ae0-4f4e-8d6b-b3a1285e0a55",
   "metadata": {},
   "outputs": [],
   "source": [
    "scaler = StandardScaler()\n",
    "X_train[[\"Amount\"]] = scaler.fit_transform(X_train[[\"Amount\"]])\n",
    "X_test[[\"Amount\"]] = scaler.transform(X_test[[\"Amount\"]])"
   ]
  },
  {
   "cell_type": "code",
   "execution_count": null,
   "id": "e0c1b678-c924-4fc4-93ae-a6226b5b7f65",
   "metadata": {},
   "outputs": [],
   "source": [
    "X_train.head()"
   ]
  },
  {
   "cell_type": "code",
   "execution_count": null,
   "id": "94d83d64-95eb-4aba-957b-523bba58f507",
   "metadata": {},
   "outputs": [],
   "source": [
    "X_test.head()"
   ]
  },
  {
   "cell_type": "code",
   "execution_count": null,
   "id": "233e28ab-a242-4ea9-8a22-54af55459ea3",
   "metadata": {},
   "outputs": [],
   "source": [
    "var = X_train.columns\n",
    "plt.figure(figsize=(20,15))\n",
    "i=0\n",
    "for col in var:\n",
    "    i += 1\n",
    "    plt.subplot(5,6, i)\n",
    "    sns.distplot(X_train[col])\n",
    "\n",
    "plt.show()"
   ]
  },
  {
   "cell_type": "code",
   "execution_count": null,
   "id": "d3c405e0-2d7b-43c3-bd24-ab86c288b463",
   "metadata": {},
   "outputs": [],
   "source": [
    "var = X_train.columns\n",
    "skew_list = []\n",
    "for i in var:\n",
    "    skew_list.append(X_train[i].skew())\n",
    "\n",
    "tmp = pd.concat([pd.DataFrame(var, columns=[\"Features\"]), pd.DataFrame(skew_list, columns=[\"Skewness\"])], axis=1)\n",
    "tmp.set_index(\"Features\", inplace=True)\n",
    "tmp.T"
   ]
  },
  {
   "cell_type": "code",
   "execution_count": null,
   "id": "38a7be0f-0e7b-4936-8a51-5309a31c1377",
   "metadata": {},
   "outputs": [],
   "source": [
    "skewed = tmp.loc[(tmp[\"Skewness\"] > 1) | (tmp[\"Skewness\"] <-1 )].index\n",
    "print(skewed)"
   ]
  },
  {
   "cell_type": "code",
   "execution_count": null,
   "id": "8f3b831b-5bba-4a03-b33b-dd64d9e814c9",
   "metadata": {},
   "outputs": [],
   "source": [
    "pt = PowerTransformer(copy=False)\n",
    "X_train[skewed] = pt.fit_transform(X_train[skewed])\n",
    "X_test[skewed] = pt.transform(X_test[skewed])"
   ]
  },
  {
   "cell_type": "code",
   "execution_count": null,
   "id": "99eb8b5d-37af-42aa-b0c3-2c2f4bb96e5f",
   "metadata": {},
   "outputs": [],
   "source": [
    "var = X_train.columns\n",
    "\n",
    "plt.figure(figsize=(20,15))\n",
    "i=0\n",
    "for col in var:\n",
    "    i += 1\n",
    "    plt.subplot(5,6, i)\n",
    "    sns.distplot(X_train[col])\n",
    "\n",
    "plt.show()"
   ]
  },
  {
   "cell_type": "code",
   "execution_count": null,
   "id": "9b14a8d7-8aff-457d-b07a-ebe2e34e3e45",
   "metadata": {},
   "outputs": [],
   "source": [
    "y_train.value_counts()/y_train.shape"
   ]
  },
  {
   "cell_type": "code",
   "execution_count": null,
   "id": "37d6bff8-833d-4b3b-b981-82c23eeb0dcc",
   "metadata": {},
   "outputs": [],
   "source": [
    "params = {\"C\": [0.01, 0.1, 1, 10, 100, 1000]}\n",
    "folds = KFold(n_splits=5, shuffle=True, random_state=4)\n",
    "model_cv = GridSearchCV(estimator = LogisticRegression(),\n",
    "                        param_grid = params, \n",
    "                        scoring= 'roc_auc', \n",
    "                        cv = folds, \n",
    "                        n_jobs=-1,\n",
    "                        verbose = 1,\n",
    "                        return_train_score=True) \n",
    "model_cv.fit(X_train, y_train)\n",
    "print('Best ROC AUC score: ', model_cv.best_score_)\n",
    "print('Best hyperparameters: ', model_cv.best_params_)"
   ]
  },
  {
   "cell_type": "code",
   "execution_count": null,
   "id": "4f12e92d-852a-492e-abfd-585fa6d7964a",
   "metadata": {},
   "outputs": [],
   "source": [
    "cv_results = pd.DataFrame(model_cv.cv_results_)\n",
    "cv_results"
   ]
  },
  {
   "cell_type": "code",
   "execution_count": null,
   "id": "4a6e861e-fd83-443a-8dea-813b88cf7488",
   "metadata": {},
   "outputs": [],
   "source": [
    "plt.figure(figsize=(10, 8))\n",
    "plt.plot(cv_results['param_C'], cv_results['mean_test_score'])\n",
    "plt.plot(cv_results['param_C'], cv_results['mean_train_score'])\n",
    "plt.xlabel('C')\n",
    "plt.ylabel('sensitivity')\n",
    "plt.legend(['test result', 'train result'], loc='upper left')\n",
    "plt.xscale('log')"
   ]
  },
  {
   "cell_type": "code",
   "execution_count": null,
   "id": "0f188f81-8b45-4490-869a-a5b6c903ea66",
   "metadata": {},
   "outputs": [],
   "source": [
    "log_reg_imb_model = LogisticRegression(C=0.01)\n",
    "log_reg_imb_model.fit(X_train, y_train)"
   ]
  },
  {
   "cell_type": "code",
   "execution_count": null,
   "id": "c7834966-ff59-4837-bf41-ca69ccf19f2e",
   "metadata": {},
   "outputs": [],
   "source": [
    "def display_scores(y_test, y_pred):\n",
    "    '''\n",
    "    Display ROC-AUC score, f1 score and classification report of a model.\n",
    "    '''\n",
    "    print(f\"F1 Score: {round(f1_score(y_test, y_pred)*100,2)}%\") \n",
    "    print(f\"Classification Report: \\n {classification_report(y_test, y_pred)}\")"
   ]
  },
  {
   "cell_type": "code",
   "execution_count": null,
   "id": "839ca68e-98f0-4e82-b7d5-9879e5dbae19",
   "metadata": {},
   "outputs": [],
   "source": [
    "y_train_pred = log_reg_imb_model.predict(X_train)"
   ]
  },
  {
   "cell_type": "code",
   "execution_count": null,
   "id": "fa06c23d-8d30-4c72-ab7e-ef65432f818e",
   "metadata": {},
   "outputs": [],
   "source": [
    "display_scores(y_train, y_train_pred)"
   ]
  },
  {
   "cell_type": "code",
   "execution_count": null,
   "id": "424765ec-1657-4809-a26e-609ed4e7aa05",
   "metadata": {},
   "outputs": [],
   "source": [
    "def draw_roc( actual, probs ):\n",
    "    fpr, tpr, thresholds = metrics.roc_curve( actual, probs,\n",
    "                                              drop_intermediate = False )\n",
    "    auc_score = metrics.roc_auc_score( actual, probs )\n",
    "    plt.figure(figsize=(5, 5))\n",
    "    plt.plot( fpr, tpr, label='ROC curve (area = %0.2f)' % auc_score )\n",
    "    plt.plot([0, 1], [0, 1], 'k--')\n",
    "    plt.xlim([0.0, 1.0])\n",
    "    plt.ylim([0.0, 1.05])\n",
    "    plt.xlabel('False Positive Rate or [1 - True Negative Rate]')\n",
    "    plt.ylabel('True Positive Rate')\n",
    "    plt.title('Receiver operating characteristic example')\n",
    "    plt.legend(loc=\"lower right\")\n",
    "    plt.show()\n",
    "\n",
    "    return None"
   ]
  },
  {
   "cell_type": "code",
   "execution_count": null,
   "id": "3439004b-576f-491b-9f9a-2b92be70912d",
   "metadata": {},
   "outputs": [],
   "source": [
    "y_train_pred_proba = log_reg_imb_model.predict_proba(X_train)[:,1]"
   ]
  },
  {
   "cell_type": "code",
   "execution_count": null,
   "id": "aae934bb-c045-44a8-bfbe-0b25095e528f",
   "metadata": {},
   "outputs": [],
   "source": [
    "draw_roc(y_train, y_train_pred_proba)"
   ]
  },
  {
   "cell_type": "code",
   "execution_count": null,
   "id": "ee81ec9b-9287-47bc-9d52-9895c329f089",
   "metadata": {},
   "outputs": [],
   "source": [
    "y_test_pred = log_reg_imb_model.predict(X_test)\n",
    "display_scores(y_test, y_test_pred)"
   ]
  },
  {
   "cell_type": "code",
   "execution_count": null,
   "id": "efed2cb9-45fb-4ca6-b542-2093f5e22397",
   "metadata": {},
   "outputs": [],
   "source": [
    "y_test_pred_proba = log_reg_imb_model.predict_proba(X_test)[:,1]"
   ]
  },
  {
   "cell_type": "code",
   "execution_count": null,
   "id": "d901d372-1813-4d80-b130-a5d1cecd5687",
   "metadata": {},
   "outputs": [],
   "source": [
    "draw_roc(y_test, y_test_pred_proba)"
   ]
  },
  {
   "cell_type": "code",
   "execution_count": null,
   "id": "7b56708d-e44b-4131-b2d8-5594c968d91b",
   "metadata": {},
   "outputs": [],
   "source": [
    "param_grid = {\n",
    "    'max_depth': range(5, 15, 5),\n",
    "    'min_samples_leaf': range(50, 150, 50),\n",
    "    'min_samples_split': range(50, 150, 50),}\n",
    "dtree = DecisionTreeClassifier()\n",
    "\n",
    "grid_search = GridSearchCV(estimator = dtree, \n",
    "                           param_grid = param_grid, \n",
    "                           scoring= 'roc_auc',\n",
    "                           cv = 3, \n",
    "                           n_jobs=-1,\n",
    "                           verbose = 1)\n",
    "grid_search.fit(X_train,y_train)"
   ]
  },
  {
   "cell_type": "code",
   "execution_count": null,
   "id": "eb9a900e-9232-4989-a2fd-5b72203abc96",
   "metadata": {},
   "outputs": [],
   "source": [
    "cv_results = pd.DataFrame(grid_search.cv_results_)\n",
    "cv_results"
   ]
  },
  {
   "cell_type": "code",
   "execution_count": null,
   "id": "2a10e65f-d674-4075-8e00-5d2a8088ba96",
   "metadata": {},
   "outputs": [],
   "source": [
    "print(\"Best roc auc score : \", grid_search.best_score_)\n",
    "print(grid_search.best_estimator_)\n",
    "40"
   ]
  },
  {
   "cell_type": "code",
   "execution_count": null,
   "id": "511b9ac0-e205-45ac-bd80-824a54544120",
   "metadata": {},
   "outputs": [],
   "source": []
  },
  {
   "cell_type": "code",
   "execution_count": null,
   "id": "c461f757-be9e-4b63-ab50-56f24aeb2c8e",
   "metadata": {},
   "outputs": [],
   "source": []
  },
  {
   "cell_type": "code",
   "execution_count": null,
   "id": "71e4f2e6-8896-4bfd-902e-56271ae6e370",
   "metadata": {},
   "outputs": [],
   "source": []
  },
  {
   "cell_type": "code",
   "execution_count": null,
   "id": "cb89c70c-a6ac-4ab5-8a32-44cb536a9135",
   "metadata": {},
   "outputs": [],
   "source": []
  },
  {
   "cell_type": "code",
   "execution_count": null,
   "id": "e816296d-bc00-4e07-a4b9-8cb55c2ff9c5",
   "metadata": {},
   "outputs": [],
   "source": []
  },
  {
   "cell_type": "code",
   "execution_count": null,
   "id": "2596688d-23cf-4f65-b21b-6579256b72cd",
   "metadata": {},
   "outputs": [],
   "source": []
  },
  {
   "cell_type": "code",
   "execution_count": null,
   "id": "1159b8ca-e7d9-461a-aaa6-3fe1717c1659",
   "metadata": {},
   "outputs": [],
   "source": []
  },
  {
   "cell_type": "code",
   "execution_count": null,
   "id": "d0d18af7-37c1-480a-a562-69ab05f67499",
   "metadata": {},
   "outputs": [],
   "source": []
  },
  {
   "cell_type": "code",
   "execution_count": null,
   "id": "092191d8-360f-41d6-98cd-439fb921c9d7",
   "metadata": {},
   "outputs": [],
   "source": []
  },
  {
   "cell_type": "code",
   "execution_count": null,
   "id": "a6c68172-bc33-4645-b510-d875b305446c",
   "metadata": {},
   "outputs": [],
   "source": []
  }
 ],
 "metadata": {
  "kernelspec": {
   "display_name": "Python 3 (ipykernel)",
   "language": "python",
   "name": "python3"
  },
  "language_info": {
   "codemirror_mode": {
    "name": "ipython",
    "version": 3
   },
   "file_extension": ".py",
   "mimetype": "text/x-python",
   "name": "python",
   "nbconvert_exporter": "python",
   "pygments_lexer": "ipython3",
   "version": "3.12.4"
  }
 },
 "nbformat": 4,
 "nbformat_minor": 5
}
